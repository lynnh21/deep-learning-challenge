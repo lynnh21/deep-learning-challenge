{
  "cells": [
    {
      "cell_type": "markdown",
      "metadata": {
        "id": "kCypQcby7Zzk"
      },
      "source": [
        "## Preprocessing"
      ]
    },
    {
      "cell_type": "code",
      "execution_count": 10,
      "metadata": {
        "colab": {
          "base_uri": "https://localhost:8080/",
          "height": 489
        },
        "id": "j_k8uQiB7Zzn",
        "outputId": "26e7ca98-f938-46fa-cdac-03b3190760fd"
      },
      "outputs": [
        {
          "output_type": "execute_result",
          "data": {
            "text/plain": [
              "        EIN                                      NAME APPLICATION_TYPE  \\\n",
              "0  10520599              BLUE KNIGHTS MOTORCYCLE CLUB              T10   \n",
              "1  10531628    AMERICAN CHESAPEAKE CLUB CHARITABLE TR               T3   \n",
              "2  10547893        ST CLOUD PROFESSIONAL FIREFIGHTERS               T5   \n",
              "3  10553066            SOUTHSIDE ATHLETIC ASSOCIATION               T3   \n",
              "4  10556103  GENETIC RESEARCH INSTITUTE OF THE DESERT               T3   \n",
              "\n",
              "        AFFILIATION CLASSIFICATION      USE_CASE  ORGANIZATION  STATUS  \\\n",
              "0       Independent          C1000    ProductDev   Association       1   \n",
              "1       Independent          C2000  Preservation  Co-operative       1   \n",
              "2  CompanySponsored          C3000    ProductDev   Association       1   \n",
              "3  CompanySponsored          C2000  Preservation         Trust       1   \n",
              "4       Independent          C1000     Heathcare         Trust       1   \n",
              "\n",
              "      INCOME_AMT SPECIAL_CONSIDERATIONS  ASK_AMT  IS_SUCCESSFUL  \n",
              "0              0                      N     5000              1  \n",
              "1         1-9999                      N   108590              1  \n",
              "2              0                      N     5000              0  \n",
              "3    10000-24999                      N     6692              1  \n",
              "4  100000-499999                      N   142590              1  "
            ],
            "text/html": [
              "\n",
              "  <div id=\"df-0b9253b7-0d3c-4d6a-9179-31f7c2d74114\">\n",
              "    <div class=\"colab-df-container\">\n",
              "      <div>\n",
              "<style scoped>\n",
              "    .dataframe tbody tr th:only-of-type {\n",
              "        vertical-align: middle;\n",
              "    }\n",
              "\n",
              "    .dataframe tbody tr th {\n",
              "        vertical-align: top;\n",
              "    }\n",
              "\n",
              "    .dataframe thead th {\n",
              "        text-align: right;\n",
              "    }\n",
              "</style>\n",
              "<table border=\"1\" class=\"dataframe\">\n",
              "  <thead>\n",
              "    <tr style=\"text-align: right;\">\n",
              "      <th></th>\n",
              "      <th>EIN</th>\n",
              "      <th>NAME</th>\n",
              "      <th>APPLICATION_TYPE</th>\n",
              "      <th>AFFILIATION</th>\n",
              "      <th>CLASSIFICATION</th>\n",
              "      <th>USE_CASE</th>\n",
              "      <th>ORGANIZATION</th>\n",
              "      <th>STATUS</th>\n",
              "      <th>INCOME_AMT</th>\n",
              "      <th>SPECIAL_CONSIDERATIONS</th>\n",
              "      <th>ASK_AMT</th>\n",
              "      <th>IS_SUCCESSFUL</th>\n",
              "    </tr>\n",
              "  </thead>\n",
              "  <tbody>\n",
              "    <tr>\n",
              "      <th>0</th>\n",
              "      <td>10520599</td>\n",
              "      <td>BLUE KNIGHTS MOTORCYCLE CLUB</td>\n",
              "      <td>T10</td>\n",
              "      <td>Independent</td>\n",
              "      <td>C1000</td>\n",
              "      <td>ProductDev</td>\n",
              "      <td>Association</td>\n",
              "      <td>1</td>\n",
              "      <td>0</td>\n",
              "      <td>N</td>\n",
              "      <td>5000</td>\n",
              "      <td>1</td>\n",
              "    </tr>\n",
              "    <tr>\n",
              "      <th>1</th>\n",
              "      <td>10531628</td>\n",
              "      <td>AMERICAN CHESAPEAKE CLUB CHARITABLE TR</td>\n",
              "      <td>T3</td>\n",
              "      <td>Independent</td>\n",
              "      <td>C2000</td>\n",
              "      <td>Preservation</td>\n",
              "      <td>Co-operative</td>\n",
              "      <td>1</td>\n",
              "      <td>1-9999</td>\n",
              "      <td>N</td>\n",
              "      <td>108590</td>\n",
              "      <td>1</td>\n",
              "    </tr>\n",
              "    <tr>\n",
              "      <th>2</th>\n",
              "      <td>10547893</td>\n",
              "      <td>ST CLOUD PROFESSIONAL FIREFIGHTERS</td>\n",
              "      <td>T5</td>\n",
              "      <td>CompanySponsored</td>\n",
              "      <td>C3000</td>\n",
              "      <td>ProductDev</td>\n",
              "      <td>Association</td>\n",
              "      <td>1</td>\n",
              "      <td>0</td>\n",
              "      <td>N</td>\n",
              "      <td>5000</td>\n",
              "      <td>0</td>\n",
              "    </tr>\n",
              "    <tr>\n",
              "      <th>3</th>\n",
              "      <td>10553066</td>\n",
              "      <td>SOUTHSIDE ATHLETIC ASSOCIATION</td>\n",
              "      <td>T3</td>\n",
              "      <td>CompanySponsored</td>\n",
              "      <td>C2000</td>\n",
              "      <td>Preservation</td>\n",
              "      <td>Trust</td>\n",
              "      <td>1</td>\n",
              "      <td>10000-24999</td>\n",
              "      <td>N</td>\n",
              "      <td>6692</td>\n",
              "      <td>1</td>\n",
              "    </tr>\n",
              "    <tr>\n",
              "      <th>4</th>\n",
              "      <td>10556103</td>\n",
              "      <td>GENETIC RESEARCH INSTITUTE OF THE DESERT</td>\n",
              "      <td>T3</td>\n",
              "      <td>Independent</td>\n",
              "      <td>C1000</td>\n",
              "      <td>Heathcare</td>\n",
              "      <td>Trust</td>\n",
              "      <td>1</td>\n",
              "      <td>100000-499999</td>\n",
              "      <td>N</td>\n",
              "      <td>142590</td>\n",
              "      <td>1</td>\n",
              "    </tr>\n",
              "  </tbody>\n",
              "</table>\n",
              "</div>\n",
              "      <button class=\"colab-df-convert\" onclick=\"convertToInteractive('df-0b9253b7-0d3c-4d6a-9179-31f7c2d74114')\"\n",
              "              title=\"Convert this dataframe to an interactive table.\"\n",
              "              style=\"display:none;\">\n",
              "        \n",
              "  <svg xmlns=\"http://www.w3.org/2000/svg\" height=\"24px\"viewBox=\"0 0 24 24\"\n",
              "       width=\"24px\">\n",
              "    <path d=\"M0 0h24v24H0V0z\" fill=\"none\"/>\n",
              "    <path d=\"M18.56 5.44l.94 2.06.94-2.06 2.06-.94-2.06-.94-.94-2.06-.94 2.06-2.06.94zm-11 1L8.5 8.5l.94-2.06 2.06-.94-2.06-.94L8.5 2.5l-.94 2.06-2.06.94zm10 10l.94 2.06.94-2.06 2.06-.94-2.06-.94-.94-2.06-.94 2.06-2.06.94z\"/><path d=\"M17.41 7.96l-1.37-1.37c-.4-.4-.92-.59-1.43-.59-.52 0-1.04.2-1.43.59L10.3 9.45l-7.72 7.72c-.78.78-.78 2.05 0 2.83L4 21.41c.39.39.9.59 1.41.59.51 0 1.02-.2 1.41-.59l7.78-7.78 2.81-2.81c.8-.78.8-2.07 0-2.86zM5.41 20L4 18.59l7.72-7.72 1.47 1.35L5.41 20z\"/>\n",
              "  </svg>\n",
              "      </button>\n",
              "      \n",
              "  <style>\n",
              "    .colab-df-container {\n",
              "      display:flex;\n",
              "      flex-wrap:wrap;\n",
              "      gap: 12px;\n",
              "    }\n",
              "\n",
              "    .colab-df-convert {\n",
              "      background-color: #E8F0FE;\n",
              "      border: none;\n",
              "      border-radius: 50%;\n",
              "      cursor: pointer;\n",
              "      display: none;\n",
              "      fill: #1967D2;\n",
              "      height: 32px;\n",
              "      padding: 0 0 0 0;\n",
              "      width: 32px;\n",
              "    }\n",
              "\n",
              "    .colab-df-convert:hover {\n",
              "      background-color: #E2EBFA;\n",
              "      box-shadow: 0px 1px 2px rgba(60, 64, 67, 0.3), 0px 1px 3px 1px rgba(60, 64, 67, 0.15);\n",
              "      fill: #174EA6;\n",
              "    }\n",
              "\n",
              "    [theme=dark] .colab-df-convert {\n",
              "      background-color: #3B4455;\n",
              "      fill: #D2E3FC;\n",
              "    }\n",
              "\n",
              "    [theme=dark] .colab-df-convert:hover {\n",
              "      background-color: #434B5C;\n",
              "      box-shadow: 0px 1px 3px 1px rgba(0, 0, 0, 0.15);\n",
              "      filter: drop-shadow(0px 1px 2px rgba(0, 0, 0, 0.3));\n",
              "      fill: #FFFFFF;\n",
              "    }\n",
              "  </style>\n",
              "\n",
              "      <script>\n",
              "        const buttonEl =\n",
              "          document.querySelector('#df-0b9253b7-0d3c-4d6a-9179-31f7c2d74114 button.colab-df-convert');\n",
              "        buttonEl.style.display =\n",
              "          google.colab.kernel.accessAllowed ? 'block' : 'none';\n",
              "\n",
              "        async function convertToInteractive(key) {\n",
              "          const element = document.querySelector('#df-0b9253b7-0d3c-4d6a-9179-31f7c2d74114');\n",
              "          const dataTable =\n",
              "            await google.colab.kernel.invokeFunction('convertToInteractive',\n",
              "                                                     [key], {});\n",
              "          if (!dataTable) return;\n",
              "\n",
              "          const docLinkHtml = 'Like what you see? Visit the ' +\n",
              "            '<a target=\"_blank\" href=https://colab.research.google.com/notebooks/data_table.ipynb>data table notebook</a>'\n",
              "            + ' to learn more about interactive tables.';\n",
              "          element.innerHTML = '';\n",
              "          dataTable['output_type'] = 'display_data';\n",
              "          await google.colab.output.renderOutput(dataTable, element);\n",
              "          const docLink = document.createElement('div');\n",
              "          docLink.innerHTML = docLinkHtml;\n",
              "          element.appendChild(docLink);\n",
              "        }\n",
              "      </script>\n",
              "    </div>\n",
              "  </div>\n",
              "  "
            ]
          },
          "metadata": {},
          "execution_count": 10
        }
      ],
      "source": [
        "# Import our dependencies\n",
        "from sklearn.model_selection import train_test_split\n",
        "from sklearn.preprocessing import StandardScaler\n",
        "import pandas as pd\n",
        "import tensorflow as tf\n",
        "\n",
        "#  Import and read the charity_data.csv.\n",
        "import pandas as pd \n",
        "application_df = pd.read_csv(\"https://static.bc-edx.com/data/dl-1-2/m21/lms/starter/charity_data.csv\")\n",
        "application_df.head()"
      ]
    },
    {
      "cell_type": "code",
      "execution_count": 11,
      "metadata": {
        "id": "pC_fepqm7Zzo"
      },
      "outputs": [],
      "source": [
        "# Drop the non-beneficial ID columns, 'EIN' and 'NAME'\n",
        "application_df = application_df.drop(columns=['EIN', 'NAME'])\n"
      ]
    },
    {
      "cell_type": "code",
      "execution_count": 12,
      "metadata": {
        "colab": {
          "base_uri": "https://localhost:8080/"
        },
        "id": "QBuH4r_Z7Zzp",
        "outputId": "de95414d-2ccc-44f3-d3a0-b0c83ad9d7d8"
      },
      "outputs": [
        {
          "output_type": "stream",
          "name": "stdout",
          "text": [
            "APPLICATION_TYPE            17\n",
            "AFFILIATION                  6\n",
            "CLASSIFICATION              71\n",
            "USE_CASE                     5\n",
            "ORGANIZATION                 4\n",
            "STATUS                       2\n",
            "INCOME_AMT                   9\n",
            "SPECIAL_CONSIDERATIONS       2\n",
            "ASK_AMT                   8747\n",
            "IS_SUCCESSFUL                2\n",
            "dtype: int64\n"
          ]
        }
      ],
      "source": [
        "# Count the number of unique values in each column\n",
        "unique_counts = application_df.nunique()\n",
        "\n",
        "# Print the number of unique values in each column\n",
        "print(unique_counts)"
      ]
    },
    {
      "cell_type": "code",
      "execution_count": 13,
      "metadata": {
        "colab": {
          "base_uri": "https://localhost:8080/"
        },
        "id": "HvWP0R8n7Zzq",
        "outputId": "6b4d6c40-8036-4727-bf18-12b77fa7f8e1"
      },
      "outputs": [
        {
          "output_type": "stream",
          "name": "stdout",
          "text": [
            "T3     27037\n",
            "T4      1542\n",
            "T6      1216\n",
            "T5      1173\n",
            "T19     1065\n",
            "T8       737\n",
            "T7       725\n",
            "T10      528\n",
            "T9       156\n",
            "T13       66\n",
            "T12       27\n",
            "T2        16\n",
            "T25        3\n",
            "T14        3\n",
            "T29        2\n",
            "T15        2\n",
            "T17        1\n",
            "Name: APPLICATION_TYPE, dtype: int64\n"
          ]
        }
      ],
      "source": [
        "# Look at APPLICATION_TYPE value counts for binning\n",
        "application_type_counts = application_df['APPLICATION_TYPE'].value_counts()\n",
        "\n",
        "# Print the value counts\n",
        "print(application_type_counts)\n"
      ]
    },
    {
      "cell_type": "code",
      "execution_count": 14,
      "metadata": {
        "colab": {
          "base_uri": "https://localhost:8080/"
        },
        "id": "2m5YIWAm7Zzq",
        "outputId": "7380a2ee-a5eb-4071-9f52-13c5d047e890"
      },
      "outputs": [
        {
          "output_type": "stream",
          "name": "stdout",
          "text": [
            "['T13', 'T12', 'T2', 'T25', 'T14', 'T29', 'T15', 'T17']\n"
          ]
        },
        {
          "output_type": "execute_result",
          "data": {
            "text/plain": [
              "T3       27037\n",
              "T4        1542\n",
              "T6        1216\n",
              "T5        1173\n",
              "T19       1065\n",
              "T8         737\n",
              "T7         725\n",
              "T10        528\n",
              "T9         156\n",
              "Other      120\n",
              "Name: APPLICATION_TYPE, dtype: int64"
            ]
          },
          "metadata": {},
          "execution_count": 14
        }
      ],
      "source": [
        "# Choose a cutoff value and create a list of application types to be replaced\n",
        "# use the variable name `application_types_to_replace`\n",
        "# Set the cutoff value\n",
        "cutoff_value = 100\n",
        "\n",
        "# Get the value counts of APPLICATION_TYPE\n",
        "application_type_counts = application_df['APPLICATION_TYPE'].value_counts()\n",
        "\n",
        "# Create a list of application types to be replaced\n",
        "application_types_to_replace = list(application_type_counts[application_type_counts < cutoff_value].index)\n",
        "\n",
        "# Print the list of application types to be replaced\n",
        "print(application_types_to_replace)\n",
        "\n",
        "# Replace in dataframe\n",
        "for app in application_types_to_replace:\n",
        "    application_df['APPLICATION_TYPE'] = application_df['APPLICATION_TYPE'].replace(app,\"Other\")\n",
        "\n",
        "# Check to make sure binning was successful\n",
        "application_df['APPLICATION_TYPE'].value_counts()"
      ]
    },
    {
      "cell_type": "code",
      "execution_count": 15,
      "metadata": {
        "colab": {
          "base_uri": "https://localhost:8080/"
        },
        "id": "9w9-KIbI7Zzr",
        "outputId": "0eae838d-47a9-4938-83af-2255120f4554"
      },
      "outputs": [
        {
          "output_type": "stream",
          "name": "stdout",
          "text": [
            "C1000    17326\n",
            "C2000     6074\n",
            "C1200     4837\n",
            "C3000     1918\n",
            "C2100     1883\n",
            "         ...  \n",
            "C4120        1\n",
            "C8210        1\n",
            "C2561        1\n",
            "C4500        1\n",
            "C2150        1\n",
            "Name: CLASSIFICATION, Length: 71, dtype: int64\n"
          ]
        }
      ],
      "source": [
        "# Look at CLASSIFICATION value counts for binning\n",
        "# Check the value counts of CLASSIFICATION column\n",
        "classification_counts = application_df['CLASSIFICATION'].value_counts()\n",
        "\n",
        "# Print the value counts\n",
        "print(classification_counts)\n"
      ]
    },
    {
      "cell_type": "code",
      "execution_count": 16,
      "metadata": {
        "colab": {
          "base_uri": "https://localhost:8080/"
        },
        "id": "XR0fSHwP7Zzr",
        "outputId": "57b4765a-49dd-4857-bd0c-bfad1da51733"
      },
      "outputs": [
        {
          "output_type": "stream",
          "name": "stdout",
          "text": [
            "C1000    17326\n",
            "C2000     6074\n",
            "C1200     4837\n",
            "C3000     1918\n",
            "C2100     1883\n",
            "C7000      777\n",
            "C1700      287\n",
            "C4000      194\n",
            "C5000      116\n",
            "C1270      114\n",
            "C2700      104\n",
            "C2800       95\n",
            "C7100       75\n",
            "C1300       58\n",
            "C1280       50\n",
            "C1230       36\n",
            "C1400       34\n",
            "C7200       32\n",
            "C2300       32\n",
            "C1240       30\n",
            "C8000       20\n",
            "C7120       18\n",
            "C1500       16\n",
            "C1800       15\n",
            "C6000       15\n",
            "C1250       14\n",
            "C8200       11\n",
            "C1238       10\n",
            "C1278       10\n",
            "C1235        9\n",
            "C1237        9\n",
            "C7210        7\n",
            "C2400        6\n",
            "C1720        6\n",
            "C4100        6\n",
            "C1257        5\n",
            "C1600        5\n",
            "C1260        3\n",
            "C2710        3\n",
            "C0           3\n",
            "C3200        2\n",
            "C1234        2\n",
            "C1246        2\n",
            "C1267        2\n",
            "C1256        2\n",
            "Name: CLASSIFICATION, dtype: int64\n"
          ]
        }
      ],
      "source": [
        "# You may find it helpful to look at CLASSIFICATION value counts >1\n",
        "# Check the value counts of CLASSIFICATION column for values greater than 1\n",
        "classification_counts = application_df['CLASSIFICATION'].value_counts()\n",
        "classification_counts_greater_than_1 = classification_counts[classification_counts > 1]\n",
        "\n",
        "# Print the value counts greater than 1\n",
        "print(classification_counts_greater_than_1)\n"
      ]
    },
    {
      "cell_type": "code",
      "execution_count": 17,
      "metadata": {
        "colab": {
          "base_uri": "https://localhost:8080/"
        },
        "id": "iOS1MuvB7Zzs",
        "outputId": "4d9c3308-3443-4c15-8eb1-483b3738f915"
      },
      "outputs": [
        {
          "output_type": "stream",
          "name": "stdout",
          "text": [
            "['C2800', 'C7100', 'C1300', 'C1280', 'C1230', 'C1400', 'C7200', 'C2300', 'C1240', 'C8000', 'C7120', 'C1500', 'C1800', 'C6000', 'C1250', 'C8200', 'C1238', 'C1278', 'C1235', 'C1237', 'C7210', 'C2400', 'C1720', 'C4100', 'C1257', 'C1600', 'C1260', 'C2710', 'C0', 'C3200', 'C1234', 'C1246', 'C1267', 'C1256', 'C2190', 'C4200', 'C2600', 'C5200', 'C1370', 'C1248', 'C6100', 'C1820', 'C1900', 'C1236', 'C3700', 'C2570', 'C1580', 'C1245', 'C2500', 'C1570', 'C1283', 'C2380', 'C1732', 'C1728', 'C2170', 'C4120', 'C8210', 'C2561', 'C4500', 'C2150']\n"
          ]
        },
        {
          "output_type": "execute_result",
          "data": {
            "text/plain": [
              "C1000    17326\n",
              "C2000     6074\n",
              "C1200     4837\n",
              "C3000     1918\n",
              "C2100     1883\n",
              "C7000      777\n",
              "Other      669\n",
              "C1700      287\n",
              "C4000      194\n",
              "C5000      116\n",
              "C1270      114\n",
              "C2700      104\n",
              "Name: CLASSIFICATION, dtype: int64"
            ]
          },
          "metadata": {},
          "execution_count": 17
        }
      ],
      "source": [
        "# Choose a cutoff value and create a list of classifications to be replaced\n",
        "# use the variable name `classifications_to_replace`\n",
        "# Set the cutoff value\n",
        "cutoff_value = 100\n",
        "\n",
        "# Get the value counts of CLASSIFICATION\n",
        "classification_counts = application_df['CLASSIFICATION'].value_counts()\n",
        "\n",
        "# Create a list of classifications to be replaced\n",
        "classifications_to_replace = list(classification_counts[classification_counts < cutoff_value].index)\n",
        "\n",
        "# Print the list of classifications to be replaced\n",
        "print(classifications_to_replace)\n",
        "\n",
        "# Replace in dataframe\n",
        "for cls in classifications_to_replace:\n",
        "    application_df['CLASSIFICATION'] = application_df['CLASSIFICATION'].replace(cls,\"Other\")\n",
        "    \n",
        "# Check to make sure binning was successful\n",
        "application_df['CLASSIFICATION'].value_counts()"
      ]
    },
    {
      "cell_type": "code",
      "execution_count": 20,
      "metadata": {
        "colab": {
          "base_uri": "https://localhost:8080/"
        },
        "id": "VSmYHFzm7Zzs",
        "outputId": "60788cb5-8d92-4288-ac67-c143b8af2504"
      },
      "outputs": [
        {
          "output_type": "stream",
          "name": "stdout",
          "text": [
            "   STATUS  ASK_AMT  IS_SUCCESSFUL  APPLICATION_TYPE_Other  \\\n",
            "0       1     5000              1                       0   \n",
            "1       1   108590              1                       0   \n",
            "2       1     5000              0                       0   \n",
            "3       1     6692              1                       0   \n",
            "4       1   142590              1                       0   \n",
            "\n",
            "   APPLICATION_TYPE_T10  APPLICATION_TYPE_T19  APPLICATION_TYPE_T3  \\\n",
            "0                     1                     0                    0   \n",
            "1                     0                     0                    1   \n",
            "2                     0                     0                    0   \n",
            "3                     0                     0                    1   \n",
            "4                     0                     0                    1   \n",
            "\n",
            "   APPLICATION_TYPE_T4  APPLICATION_TYPE_T5  APPLICATION_TYPE_T6  ...  \\\n",
            "0                    0                    0                    0  ...   \n",
            "1                    0                    0                    0  ...   \n",
            "2                    0                    1                    0  ...   \n",
            "3                    0                    0                    0  ...   \n",
            "4                    0                    0                    0  ...   \n",
            "\n",
            "   INCOME_AMT_1-9999  INCOME_AMT_10000-24999  INCOME_AMT_100000-499999  \\\n",
            "0                  0                       0                         0   \n",
            "1                  1                       0                         0   \n",
            "2                  0                       0                         0   \n",
            "3                  0                       1                         0   \n",
            "4                  0                       0                         1   \n",
            "\n",
            "   INCOME_AMT_10M-50M  INCOME_AMT_1M-5M  INCOME_AMT_25000-99999  \\\n",
            "0                   0                 0                       0   \n",
            "1                   0                 0                       0   \n",
            "2                   0                 0                       0   \n",
            "3                   0                 0                       0   \n",
            "4                   0                 0                       0   \n",
            "\n",
            "   INCOME_AMT_50M+  INCOME_AMT_5M-10M  SPECIAL_CONSIDERATIONS_N  \\\n",
            "0                0                  0                         1   \n",
            "1                0                  0                         1   \n",
            "2                0                  0                         1   \n",
            "3                0                  0                         1   \n",
            "4                0                  0                         1   \n",
            "\n",
            "   SPECIAL_CONSIDERATIONS_Y  \n",
            "0                         0  \n",
            "1                         0  \n",
            "2                         0  \n",
            "3                         0  \n",
            "4                         0  \n",
            "\n",
            "[5 rows x 51 columns]\n"
          ]
        }
      ],
      "source": [
        "from numpy.lib.shape_base import apply_over_axes\n",
        "# Convert categorical data to numeric with `pd.get_dummies`\n",
        "application_df= pd.get_dummies(application_df)\n",
        "print(application_df.head())"
      ]
    },
    {
      "cell_type": "code",
      "execution_count": 21,
      "metadata": {
        "id": "UNINyC1P7Zzt"
      },
      "outputs": [],
      "source": [
        "# Split our preprocessed data into our features and target arrays\n",
        "# Split the data into features (X) and target (y) arrays\n",
        "X = application_df.drop('IS_SUCCESSFUL', axis=1).values\n",
        "y = application_df['IS_SUCCESSFUL'].values\n",
        "\n",
        "\n",
        "# Split the preprocessed data into a training and testing dataset\n",
        "X_train, X_test, y_train, y_test = train_test_split(X, y, test_size=0.2, random_state=42)"
      ]
    },
    {
      "cell_type": "code",
      "execution_count": 22,
      "metadata": {
        "id": "bRCxYAdq7Zzt"
      },
      "outputs": [],
      "source": [
        "# Create a StandardScaler instances\n",
        "scaler = StandardScaler()\n",
        "\n",
        "# Fit the StandardScaler\n",
        "X_scaler = scaler.fit(X_train)\n",
        "\n",
        "# Scale the data\n",
        "X_train_scaled = X_scaler.transform(X_train)\n",
        "X_test_scaled = X_scaler.transform(X_test)"
      ]
    },
    {
      "cell_type": "markdown",
      "metadata": {
        "id": "1gUfIeIc7Zzu"
      },
      "source": [
        "## Compile, Train and Evaluate the Model"
      ]
    },
    {
      "cell_type": "code",
      "source": [
        "nn = tf.keras.models.Sequential()\n",
        "\n",
        "# First hidden layer\n",
        "nn.add(tf.keras.layers.Dense(units=80, activation='relu', input_dim=X_train.shape[1]))\n",
        "\n",
        "# Second hidden layer\n",
        "nn.add(tf.keras.layers.Dense(units=30, activation='relu'))\n",
        "\n",
        "# Output layer\n",
        "nn.add(tf.keras.layers.Dense(units=1, activation='sigmoid'))\n",
        "\n",
        "# Check the structure of the model\n",
        "nn.summary()\n"
      ],
      "metadata": {
        "colab": {
          "base_uri": "https://localhost:8080/"
        },
        "id": "NzSG-ypWBIXF",
        "outputId": "6baf9048-a937-4f99-9b39-7366ecab0f01"
      },
      "execution_count": 24,
      "outputs": [
        {
          "output_type": "stream",
          "name": "stdout",
          "text": [
            "Model: \"sequential_1\"\n",
            "_________________________________________________________________\n",
            " Layer (type)                Output Shape              Param #   \n",
            "=================================================================\n",
            " dense_3 (Dense)             (None, 80)                4080      \n",
            "                                                                 \n",
            " dense_4 (Dense)             (None, 30)                2430      \n",
            "                                                                 \n",
            " dense_5 (Dense)             (None, 1)                 31        \n",
            "                                                                 \n",
            "=================================================================\n",
            "Total params: 6,541\n",
            "Trainable params: 6,541\n",
            "Non-trainable params: 0\n",
            "_________________________________________________________________\n"
          ]
        }
      ]
    },
    {
      "cell_type": "code",
      "execution_count": 27,
      "metadata": {
        "id": "RnE0oL_67Zzv"
      },
      "outputs": [],
      "source": [
        "# Compile the model\n",
        "\n",
        "nn.compile(loss='binary_crossentropy', optimizer='adam', metrics=['accuracy'])\n"
      ]
    },
    {
      "cell_type": "code",
      "execution_count": 30,
      "metadata": {
        "colab": {
          "base_uri": "https://localhost:8080/"
        },
        "id": "r6vQ7PrS7Zzv",
        "outputId": "1a36a488-bd10-4598-aa73-f97baae23399"
      },
      "outputs": [
        {
          "output_type": "stream",
          "name": "stdout",
          "text": [
            "Epoch 1/100\n",
            "584/584 [==============================] - 1s 2ms/step - loss: 0.6911 - accuracy: 0.5320\n",
            "Epoch 2/100\n",
            "584/584 [==============================] - 1s 2ms/step - loss: 0.6912 - accuracy: 0.5320\n",
            "Epoch 3/100\n",
            "584/584 [==============================] - 1s 1ms/step - loss: 0.6912 - accuracy: 0.5320\n",
            "Epoch 4/100\n",
            "584/584 [==============================] - 1s 2ms/step - loss: 0.6912 - accuracy: 0.5320\n",
            "Epoch 5/100\n",
            "584/584 [==============================] - 1s 2ms/step - loss: 0.6912 - accuracy: 0.5320\n",
            "Epoch 6/100\n",
            "584/584 [==============================] - 1s 1ms/step - loss: 0.6912 - accuracy: 0.5320\n",
            "Epoch 7/100\n",
            "584/584 [==============================] - 1s 2ms/step - loss: 0.6913 - accuracy: 0.5320\n",
            "Epoch 8/100\n",
            "584/584 [==============================] - 1s 2ms/step - loss: 0.6911 - accuracy: 0.5320\n",
            "Epoch 9/100\n",
            "584/584 [==============================] - 1s 1ms/step - loss: 0.6912 - accuracy: 0.5320\n",
            "Epoch 10/100\n",
            "584/584 [==============================] - 1s 1ms/step - loss: 0.6912 - accuracy: 0.5320\n",
            "Epoch 11/100\n",
            "584/584 [==============================] - 1s 2ms/step - loss: 0.6912 - accuracy: 0.5320\n",
            "Epoch 12/100\n",
            "584/584 [==============================] - 1s 1ms/step - loss: 0.6912 - accuracy: 0.5320\n",
            "Epoch 13/100\n",
            "584/584 [==============================] - 1s 1ms/step - loss: 0.6912 - accuracy: 0.5320\n",
            "Epoch 14/100\n",
            "584/584 [==============================] - 1s 2ms/step - loss: 0.6912 - accuracy: 0.5320\n",
            "Epoch 15/100\n",
            "584/584 [==============================] - 1s 2ms/step - loss: 0.6912 - accuracy: 0.5320\n",
            "Epoch 16/100\n",
            "584/584 [==============================] - 1s 1ms/step - loss: 0.6912 - accuracy: 0.5320\n",
            "Epoch 17/100\n",
            "584/584 [==============================] - 1s 1ms/step - loss: 0.6911 - accuracy: 0.5320\n",
            "Epoch 18/100\n",
            "584/584 [==============================] - 1s 1ms/step - loss: 0.6912 - accuracy: 0.5320\n",
            "Epoch 19/100\n",
            "584/584 [==============================] - 1s 1ms/step - loss: 0.6912 - accuracy: 0.5320\n",
            "Epoch 20/100\n",
            "584/584 [==============================] - 1s 1ms/step - loss: 0.6912 - accuracy: 0.5320\n",
            "Epoch 21/100\n",
            "584/584 [==============================] - 1s 1ms/step - loss: 0.6912 - accuracy: 0.5320\n",
            "Epoch 22/100\n",
            "584/584 [==============================] - 1s 2ms/step - loss: 0.6912 - accuracy: 0.5320\n",
            "Epoch 23/100\n",
            "584/584 [==============================] - 1s 2ms/step - loss: 0.6912 - accuracy: 0.5320\n",
            "Epoch 24/100\n",
            "584/584 [==============================] - 1s 1ms/step - loss: 0.6912 - accuracy: 0.5320\n",
            "Epoch 25/100\n",
            "584/584 [==============================] - 1s 1ms/step - loss: 0.6911 - accuracy: 0.5320\n",
            "Epoch 26/100\n",
            "584/584 [==============================] - 1s 1ms/step - loss: 0.6912 - accuracy: 0.5320\n",
            "Epoch 27/100\n",
            "584/584 [==============================] - 1s 1ms/step - loss: 0.6912 - accuracy: 0.5320\n",
            "Epoch 28/100\n",
            "584/584 [==============================] - 1s 2ms/step - loss: 0.6912 - accuracy: 0.5320\n",
            "Epoch 29/100\n",
            "584/584 [==============================] - 1s 2ms/step - loss: 0.6911 - accuracy: 0.5320\n",
            "Epoch 30/100\n",
            "584/584 [==============================] - 1s 2ms/step - loss: 0.6913 - accuracy: 0.5320\n",
            "Epoch 31/100\n",
            "584/584 [==============================] - 1s 1ms/step - loss: 0.6912 - accuracy: 0.5320\n",
            "Epoch 32/100\n",
            "584/584 [==============================] - 1s 1ms/step - loss: 0.6912 - accuracy: 0.5320\n",
            "Epoch 33/100\n",
            "584/584 [==============================] - 1s 1ms/step - loss: 0.6912 - accuracy: 0.5320\n",
            "Epoch 34/100\n",
            "584/584 [==============================] - 1s 2ms/step - loss: 0.6912 - accuracy: 0.5320\n",
            "Epoch 35/100\n",
            "584/584 [==============================] - 1s 2ms/step - loss: 0.6912 - accuracy: 0.5320\n",
            "Epoch 36/100\n",
            "584/584 [==============================] - 1s 1ms/step - loss: 0.6912 - accuracy: 0.5320\n",
            "Epoch 37/100\n",
            "584/584 [==============================] - 1s 1ms/step - loss: 0.6912 - accuracy: 0.5320\n",
            "Epoch 38/100\n",
            "584/584 [==============================] - 1s 1ms/step - loss: 0.6913 - accuracy: 0.5320\n",
            "Epoch 39/100\n",
            "584/584 [==============================] - 1s 2ms/step - loss: 0.6912 - accuracy: 0.5320\n",
            "Epoch 40/100\n",
            "584/584 [==============================] - 1s 2ms/step - loss: 0.6912 - accuracy: 0.5320\n",
            "Epoch 41/100\n",
            "584/584 [==============================] - 1s 2ms/step - loss: 0.6912 - accuracy: 0.5320\n",
            "Epoch 42/100\n",
            "584/584 [==============================] - 1s 2ms/step - loss: 0.6912 - accuracy: 0.5320\n",
            "Epoch 43/100\n",
            "584/584 [==============================] - 1s 1ms/step - loss: 0.6911 - accuracy: 0.5320\n",
            "Epoch 44/100\n",
            "584/584 [==============================] - 1s 2ms/step - loss: 0.6912 - accuracy: 0.5320\n",
            "Epoch 45/100\n",
            "584/584 [==============================] - 1s 2ms/step - loss: 0.6912 - accuracy: 0.5320\n",
            "Epoch 46/100\n",
            "584/584 [==============================] - 1s 1ms/step - loss: 0.6912 - accuracy: 0.5320\n",
            "Epoch 47/100\n",
            "584/584 [==============================] - 1s 1ms/step - loss: 0.6913 - accuracy: 0.5320\n",
            "Epoch 48/100\n",
            "584/584 [==============================] - 1s 1ms/step - loss: 0.6912 - accuracy: 0.5320\n",
            "Epoch 49/100\n",
            "584/584 [==============================] - 1s 1ms/step - loss: 0.6912 - accuracy: 0.5320\n",
            "Epoch 50/100\n",
            "584/584 [==============================] - 1s 2ms/step - loss: 0.6912 - accuracy: 0.5320\n",
            "Epoch 51/100\n",
            "584/584 [==============================] - 1s 2ms/step - loss: 0.6912 - accuracy: 0.5320\n",
            "Epoch 52/100\n",
            "584/584 [==============================] - 1s 2ms/step - loss: 0.6912 - accuracy: 0.5320\n",
            "Epoch 53/100\n",
            "584/584 [==============================] - 1s 2ms/step - loss: 0.6912 - accuracy: 0.5320\n",
            "Epoch 54/100\n",
            "584/584 [==============================] - 1s 2ms/step - loss: 0.6912 - accuracy: 0.5320\n",
            "Epoch 55/100\n",
            "584/584 [==============================] - 1s 2ms/step - loss: 0.6912 - accuracy: 0.5320\n",
            "Epoch 56/100\n",
            "584/584 [==============================] - 1s 1ms/step - loss: 0.6911 - accuracy: 0.5320\n",
            "Epoch 57/100\n",
            "584/584 [==============================] - 1s 1ms/step - loss: 0.6913 - accuracy: 0.5320\n",
            "Epoch 58/100\n",
            "584/584 [==============================] - 1s 1ms/step - loss: 0.6912 - accuracy: 0.5320\n",
            "Epoch 59/100\n",
            "584/584 [==============================] - 1s 1ms/step - loss: 0.6913 - accuracy: 0.5320\n",
            "Epoch 60/100\n",
            "584/584 [==============================] - 1s 2ms/step - loss: 0.6912 - accuracy: 0.5320\n",
            "Epoch 61/100\n",
            "584/584 [==============================] - 1s 1ms/step - loss: 0.6912 - accuracy: 0.5320\n",
            "Epoch 62/100\n",
            "584/584 [==============================] - 1s 2ms/step - loss: 0.6912 - accuracy: 0.5320\n",
            "Epoch 63/100\n",
            "584/584 [==============================] - 1s 2ms/step - loss: 0.6913 - accuracy: 0.5320\n",
            "Epoch 64/100\n",
            "584/584 [==============================] - 1s 2ms/step - loss: 0.6912 - accuracy: 0.5320\n",
            "Epoch 65/100\n",
            "584/584 [==============================] - 1s 2ms/step - loss: 0.6912 - accuracy: 0.5320\n",
            "Epoch 66/100\n",
            "584/584 [==============================] - 1s 2ms/step - loss: 0.6912 - accuracy: 0.5320\n",
            "Epoch 67/100\n",
            "584/584 [==============================] - 1s 2ms/step - loss: 0.6913 - accuracy: 0.5320\n",
            "Epoch 68/100\n",
            "584/584 [==============================] - 1s 1ms/step - loss: 0.6912 - accuracy: 0.5320\n",
            "Epoch 69/100\n",
            "584/584 [==============================] - 1s 1ms/step - loss: 0.6912 - accuracy: 0.5320\n",
            "Epoch 70/100\n",
            "584/584 [==============================] - 1s 1ms/step - loss: 0.6913 - accuracy: 0.5320\n",
            "Epoch 71/100\n",
            "584/584 [==============================] - 1s 1ms/step - loss: 0.6913 - accuracy: 0.5320\n",
            "Epoch 72/100\n",
            "584/584 [==============================] - 1s 1ms/step - loss: 0.6912 - accuracy: 0.5320\n",
            "Epoch 73/100\n",
            "584/584 [==============================] - 1s 1ms/step - loss: 0.6913 - accuracy: 0.5320\n",
            "Epoch 74/100\n",
            "584/584 [==============================] - 1s 1ms/step - loss: 0.6912 - accuracy: 0.5320\n",
            "Epoch 75/100\n",
            "584/584 [==============================] - 1s 2ms/step - loss: 0.6912 - accuracy: 0.5320\n",
            "Epoch 76/100\n",
            "584/584 [==============================] - 1s 1ms/step - loss: 0.6912 - accuracy: 0.5320\n",
            "Epoch 77/100\n",
            "584/584 [==============================] - 1s 1ms/step - loss: 0.6912 - accuracy: 0.5320\n",
            "Epoch 78/100\n",
            "584/584 [==============================] - 1s 1ms/step - loss: 0.6912 - accuracy: 0.5320\n",
            "Epoch 79/100\n",
            "584/584 [==============================] - 1s 1ms/step - loss: 0.6912 - accuracy: 0.5320\n",
            "Epoch 80/100\n",
            "584/584 [==============================] - 1s 2ms/step - loss: 0.6913 - accuracy: 0.5320\n",
            "Epoch 81/100\n",
            "584/584 [==============================] - 1s 2ms/step - loss: 0.6912 - accuracy: 0.5320\n",
            "Epoch 82/100\n",
            "584/584 [==============================] - 1s 2ms/step - loss: 0.6911 - accuracy: 0.5320\n",
            "Epoch 83/100\n",
            "584/584 [==============================] - 1s 1ms/step - loss: 0.6912 - accuracy: 0.5320\n",
            "Epoch 84/100\n",
            "584/584 [==============================] - 1s 2ms/step - loss: 0.6912 - accuracy: 0.5320\n",
            "Epoch 85/100\n",
            "584/584 [==============================] - 1s 1ms/step - loss: 0.6912 - accuracy: 0.5320\n",
            "Epoch 86/100\n",
            "584/584 [==============================] - 1s 1ms/step - loss: 0.6912 - accuracy: 0.5320\n",
            "Epoch 87/100\n",
            "584/584 [==============================] - 1s 1ms/step - loss: 0.6912 - accuracy: 0.5320\n",
            "Epoch 88/100\n",
            "584/584 [==============================] - 1s 1ms/step - loss: 0.6912 - accuracy: 0.5320\n",
            "Epoch 89/100\n",
            "584/584 [==============================] - 1s 2ms/step - loss: 0.6912 - accuracy: 0.5320\n",
            "Epoch 90/100\n",
            "584/584 [==============================] - 1s 1ms/step - loss: 0.6912 - accuracy: 0.5320\n",
            "Epoch 91/100\n",
            "584/584 [==============================] - 1s 1ms/step - loss: 0.6912 - accuracy: 0.5320\n",
            "Epoch 92/100\n",
            "584/584 [==============================] - 1s 1ms/step - loss: 0.6912 - accuracy: 0.5320\n",
            "Epoch 93/100\n",
            "584/584 [==============================] - 1s 1ms/step - loss: 0.6911 - accuracy: 0.5320\n",
            "Epoch 94/100\n",
            "584/584 [==============================] - 1s 2ms/step - loss: 0.6912 - accuracy: 0.5320\n",
            "Epoch 95/100\n",
            "584/584 [==============================] - 1s 2ms/step - loss: 0.6912 - accuracy: 0.5320\n",
            "Epoch 96/100\n",
            "584/584 [==============================] - 1s 1ms/step - loss: 0.6912 - accuracy: 0.5320\n",
            "Epoch 97/100\n",
            "584/584 [==============================] - 1s 2ms/step - loss: 0.6912 - accuracy: 0.5320\n",
            "Epoch 98/100\n",
            "584/584 [==============================] - 1s 2ms/step - loss: 0.6912 - accuracy: 0.5320\n",
            "Epoch 99/100\n",
            "584/584 [==============================] - 1s 1ms/step - loss: 0.6912 - accuracy: 0.5320\n",
            "Epoch 100/100\n",
            "584/584 [==============================] - 1s 1ms/step - loss: 0.6912 - accuracy: 0.5320\n"
          ]
        },
        {
          "output_type": "execute_result",
          "data": {
            "text/plain": [
              "<keras.callbacks.History at 0x7f003dc1f160>"
            ]
          },
          "metadata": {},
          "execution_count": 30
        }
      ],
      "source": [
        "# Train the model\n",
        "# Train the model\n",
        "nn.fit(X_train, y_train, epochs=100, batch_size=47)\n"
      ]
    },
    {
      "cell_type": "code",
      "execution_count": 31,
      "metadata": {
        "colab": {
          "base_uri": "https://localhost:8080/"
        },
        "id": "06lvsghU7Zzw",
        "outputId": "8bf6a618-5edf-42b3-a23b-25492cd01d21"
      },
      "outputs": [
        {
          "output_type": "stream",
          "name": "stdout",
          "text": [
            "215/215 - 0s - loss: 1.1335 - accuracy: 0.4611 - 198ms/epoch - 919us/step\n",
            "Loss: 1.133492350578308, Accuracy: 0.4610787034034729\n"
          ]
        }
      ],
      "source": [
        "# Evaluate the model using the test data\n",
        "model_loss, model_accuracy = nn.evaluate(X_test_scaled,y_test,verbose=2)\n",
        "print(f\"Loss: {model_loss}, Accuracy: {model_accuracy}\")"
      ]
    },
    {
      "cell_type": "code",
      "execution_count": 32,
      "metadata": {
        "id": "dhIIo-l77Zzw"
      },
      "outputs": [],
      "source": [
        "# Export our model to HDF5 file\n",
        "nn.save(\"AlphabetSoupCharity.h5\")\n"
      ]
    }
  ],
  "metadata": {
    "kernelspec": {
      "display_name": "Python 3",
      "language": "python",
      "name": "python3"
    },
    "language_info": {
      "codemirror_mode": {
        "name": "ipython",
        "version": 3
      },
      "file_extension": ".py",
      "mimetype": "text/x-python",
      "name": "python",
      "nbconvert_exporter": "python",
      "pygments_lexer": "ipython3",
      "version": "3.-1.-1"
    },
    "vscode": {
      "interpreter": {
        "hash": "31f2aee4e71d21fbe5cf8b01ff0e069b9275f58929596ceb00d14d90e3e16cd6"
      }
    },
    "colab": {
      "provenance": []
    }
  },
  "nbformat": 4,
  "nbformat_minor": 0
}